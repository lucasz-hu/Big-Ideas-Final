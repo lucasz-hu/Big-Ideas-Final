{
 "cells": [
  {
   "cell_type": "code",
   "execution_count": 20,
   "metadata": {},
   "outputs": [
    {
     "ename": "SyntaxError",
     "evalue": "invalid syntax (<ipython-input-20-2956aa91280e>, line 24)",
     "output_type": "error",
     "traceback": [
      "\u001b[0;36m  File \u001b[0;32m\"<ipython-input-20-2956aa91280e>\"\u001b[0;36m, line \u001b[0;32m24\u001b[0m\n\u001b[0;31m    print(census.head(1:0))\u001b[0m\n\u001b[0m                       ^\u001b[0m\n\u001b[0;31mSyntaxError\u001b[0m\u001b[0;31m:\u001b[0m invalid syntax\n"
     ]
    }
   ],
   "source": [
    "import ssl\n",
    "import pandas as pd\n",
    "import numpy as np\n",
    "\n",
    "ssl._create_default_https_context = ssl._create_unverified_context\n",
    "\n",
    "pd.set_option('display.max_columns', None)\n",
    "\n",
    "census = pd.read_csv(\"https://data.wprdc.org/dataset/40188e1c-6d2e-4f20-9391-607bd3054949/resource/8ac5c768-09ba-43a8-829f-ce4a417d20fb/download/population-density.csv\",\n",
    "                           index_col=\"Neighborhood\", \n",
    "                           parse_dates=True)\n",
    "\n",
    "playground = pd.read_csv(\"https://data.wprdc.org/datastore/dump/e39ef76e-0a11-47c8-a86f-a37f55db7a2b\",\n",
    "                           index_col=\"neighborhood\", \n",
    "                           parse_dates=True)\n",
    "\n",
    "pools = pd.read_csv(\"https://data.wprdc.org/datastore/dump/5cc254fe-2cbd-4912-9f44-2f95f0beea9a\",\n",
    "                           index_col=\"neighborhood\", \n",
    "                           parse_dates=True)\n",
    "rinks = pd.read_csv(\"https://data.wprdc.org/datastore/dump/a5b71bfa-840c-4c86-8f43-07a9ae854227\",\n",
    "                           index_col=\"neighborhood\", \n",
    "                           parse_dates=True)\n",
    "\n",
    "\n",
    "\n",
    "print(census.head(1))\n",
    "print(playground.head(1))\n",
    "print(pools.head(1))\n",
    "print(rinks.head(1))"
   ]
  },
  {
   "cell_type": "code",
   "execution_count": null,
   "metadata": {},
   "outputs": [],
   "source": []
  }
 ],
 "metadata": {
  "kernelspec": {
   "display_name": "Python 3",
   "language": "python",
   "name": "python3"
  },
  "language_info": {
   "codemirror_mode": {
    "name": "ipython",
    "version": 3
   },
   "file_extension": ".py",
   "mimetype": "text/x-python",
   "name": "python",
   "nbconvert_exporter": "python",
   "pygments_lexer": "ipython3",
   "version": "3.6.7"
  }
 },
 "nbformat": 4,
 "nbformat_minor": 4
}
